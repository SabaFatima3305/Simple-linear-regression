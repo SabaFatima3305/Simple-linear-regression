{
 "cells": [
  {
   "cell_type": "code",
   "execution_count": 1,
   "id": "64d6909a",
   "metadata": {},
   "outputs": [
    {
     "data": {
      "text/html": [
       "<div>\n",
       "<style scoped>\n",
       "    .dataframe tbody tr th:only-of-type {\n",
       "        vertical-align: middle;\n",
       "    }\n",
       "\n",
       "    .dataframe tbody tr th {\n",
       "        vertical-align: top;\n",
       "    }\n",
       "\n",
       "    .dataframe thead th {\n",
       "        text-align: right;\n",
       "    }\n",
       "</style>\n",
       "<table border=\"1\" class=\"dataframe\">\n",
       "  <thead>\n",
       "    <tr style=\"text-align: right;\">\n",
       "      <th></th>\n",
       "      <th>Delivery Time</th>\n",
       "      <th>Sorting Time</th>\n",
       "    </tr>\n",
       "  </thead>\n",
       "  <tbody>\n",
       "    <tr>\n",
       "      <th>0</th>\n",
       "      <td>21.00</td>\n",
       "      <td>10</td>\n",
       "    </tr>\n",
       "    <tr>\n",
       "      <th>1</th>\n",
       "      <td>13.50</td>\n",
       "      <td>4</td>\n",
       "    </tr>\n",
       "    <tr>\n",
       "      <th>2</th>\n",
       "      <td>19.75</td>\n",
       "      <td>6</td>\n",
       "    </tr>\n",
       "    <tr>\n",
       "      <th>3</th>\n",
       "      <td>24.00</td>\n",
       "      <td>9</td>\n",
       "    </tr>\n",
       "    <tr>\n",
       "      <th>4</th>\n",
       "      <td>29.00</td>\n",
       "      <td>10</td>\n",
       "    </tr>\n",
       "  </tbody>\n",
       "</table>\n",
       "</div>"
      ],
      "text/plain": [
       "   Delivery Time  Sorting Time\n",
       "0          21.00            10\n",
       "1          13.50             4\n",
       "2          19.75             6\n",
       "3          24.00             9\n",
       "4          29.00            10"
      ]
     },
     "execution_count": 1,
     "metadata": {},
     "output_type": "execute_result"
    }
   ],
   "source": [
    "import pandas as pd\n",
    "df = pd.read_csv(\"C:/Users/ASUS/OneDrive/Documents/data science/DS Assignments/simple linear regg/delivery_time.csv\")\n",
    "df\n",
    "df.head()"
   ]
  },
  {
   "cell_type": "markdown",
   "id": "fc565527",
   "metadata": {},
   "source": [
    "## Exploratory Data Analysis "
   ]
  },
  {
   "cell_type": "code",
   "execution_count": 2,
   "id": "ff58f4c1",
   "metadata": {
    "scrolled": true
   },
   "outputs": [
    {
     "name": "stdout",
     "output_type": "stream",
     "text": [
      "<class 'pandas.core.frame.DataFrame'>\n",
      "RangeIndex: 21 entries, 0 to 20\n",
      "Data columns (total 2 columns):\n",
      " #   Column         Non-Null Count  Dtype  \n",
      "---  ------         --------------  -----  \n",
      " 0   Delivery Time  21 non-null     float64\n",
      " 1   Sorting Time   21 non-null     int64  \n",
      "dtypes: float64(1), int64(1)\n",
      "memory usage: 464.0 bytes\n"
     ]
    }
   ],
   "source": [
    "df.shape\n",
    "df.info()\n"
   ]
  },
  {
   "cell_type": "code",
   "execution_count": 3,
   "id": "73ce02ee",
   "metadata": {},
   "outputs": [
    {
     "data": {
      "text/plain": [
       "0.31795982942685397"
      ]
     },
     "execution_count": 3,
     "metadata": {},
     "output_type": "execute_result"
    }
   ],
   "source": [
    "df[\"Sorting Time\"].kurt()\n",
    "df[\"Delivery Time\"].kurt()\n"
   ]
  },
  {
   "cell_type": "code",
   "execution_count": 4,
   "id": "b85d787b",
   "metadata": {},
   "outputs": [
    {
     "data": {
      "text/html": [
       "<div>\n",
       "<style scoped>\n",
       "    .dataframe tbody tr th:only-of-type {\n",
       "        vertical-align: middle;\n",
       "    }\n",
       "\n",
       "    .dataframe tbody tr th {\n",
       "        vertical-align: top;\n",
       "    }\n",
       "\n",
       "    .dataframe thead th {\n",
       "        text-align: right;\n",
       "    }\n",
       "</style>\n",
       "<table border=\"1\" class=\"dataframe\">\n",
       "  <thead>\n",
       "    <tr style=\"text-align: right;\">\n",
       "      <th></th>\n",
       "      <th>Delivery Time</th>\n",
       "      <th>Sorting Time</th>\n",
       "    </tr>\n",
       "  </thead>\n",
       "  <tbody>\n",
       "    <tr>\n",
       "      <th>count</th>\n",
       "      <td>21.000000</td>\n",
       "      <td>21.000000</td>\n",
       "    </tr>\n",
       "    <tr>\n",
       "      <th>mean</th>\n",
       "      <td>16.790952</td>\n",
       "      <td>6.190476</td>\n",
       "    </tr>\n",
       "    <tr>\n",
       "      <th>std</th>\n",
       "      <td>5.074901</td>\n",
       "      <td>2.542028</td>\n",
       "    </tr>\n",
       "    <tr>\n",
       "      <th>min</th>\n",
       "      <td>8.000000</td>\n",
       "      <td>2.000000</td>\n",
       "    </tr>\n",
       "    <tr>\n",
       "      <th>25%</th>\n",
       "      <td>13.500000</td>\n",
       "      <td>4.000000</td>\n",
       "    </tr>\n",
       "    <tr>\n",
       "      <th>50%</th>\n",
       "      <td>17.830000</td>\n",
       "      <td>6.000000</td>\n",
       "    </tr>\n",
       "    <tr>\n",
       "      <th>75%</th>\n",
       "      <td>19.750000</td>\n",
       "      <td>8.000000</td>\n",
       "    </tr>\n",
       "    <tr>\n",
       "      <th>max</th>\n",
       "      <td>29.000000</td>\n",
       "      <td>10.000000</td>\n",
       "    </tr>\n",
       "  </tbody>\n",
       "</table>\n",
       "</div>"
      ],
      "text/plain": [
       "       Delivery Time  Sorting Time\n",
       "count      21.000000     21.000000\n",
       "mean       16.790952      6.190476\n",
       "std         5.074901      2.542028\n",
       "min         8.000000      2.000000\n",
       "25%        13.500000      4.000000\n",
       "50%        17.830000      6.000000\n",
       "75%        19.750000      8.000000\n",
       "max        29.000000     10.000000"
      ]
     },
     "execution_count": 4,
     "metadata": {},
     "output_type": "execute_result"
    }
   ],
   "source": [
    "df.describe()"
   ]
  },
  {
   "cell_type": "code",
   "execution_count": 5,
   "id": "ed217b67",
   "metadata": {},
   "outputs": [
    {
     "data": {
      "text/plain": [
       "<seaborn.axisgrid.FacetGrid at 0x1cc3658a9e0>"
      ]
     },
     "execution_count": 5,
     "metadata": {},
     "output_type": "execute_result"
    },
    {
     "data": {
      "image/png": "[encoded data removed]",
      "text/plain": [
       "<Figure size 500x500 with 1 Axes>"
      ]
     },
     "metadata": {},
     "output_type": "display_data"
    },
    {
     "data": {
      "image/png": "[encoded data removed]",
      "text/plain": [
       "<Figure size 500x500 with 1 Axes>"
      ]
     },
     "metadata": {},
     "output_type": "display_data"
    }
   ],
   "source": [
    "import seaborn as sns\n",
    "sns.displot(df[\"Sorting Time\"])\n",
    "sns.displot(df[\"Delivery Time\"])"
   ]
  },
  {
   "cell_type": "code",
   "execution_count": 6,
   "id": "1feee49e",
   "metadata": {},
   "outputs": [
    {
     "data": {
      "text/plain": [
       "Delivery Time    0\n",
       "Sorting Time     0\n",
       "dtype: int64"
      ]
     },
     "execution_count": 6,
     "metadata": {},
     "output_type": "execute_result"
    }
   ],
   "source": [
    "df.isnull().sum()"
   ]
  },
  {
   "cell_type": "code",
   "execution_count": 7,
   "id": "01fafbee",
   "metadata": {},
   "outputs": [
    {
     "data": {
      "text/plain": [
       "<matplotlib.collections.PathCollection at 0x1cc39eb2860>"
      ]
     },
     "execution_count": 7,
     "metadata": {},
     "output_type": "execute_result"
    },
    {
     "data": {
      "image/png": "[encoded data removed]",
      "text/plain": [
       "<Figure size 640x480 with 1 Axes>"
      ]
     },
     "metadata": {},
     "output_type": "display_data"
    }
   ],
   "source": [
    "import matplotlib.pyplot as plt\n",
    "plt.scatter(x= df[\"Sorting Time\"], y = df[\"Delivery Time\"],color = \"Orange\")"
   ]
  },
  {
   "cell_type": "code",
   "execution_count": 8,
   "id": "f9a33996",
   "metadata": {},
   "outputs": [
    {
     "data": {
      "text/plain": [
       "<Axes: >"
      ]
     },
     "execution_count": 8,
     "metadata": {},
     "output_type": "execute_result"
    },
    {
     "data": {
      "image/png": "[encoded data removed]",
      "text/plain": [
       "<Figure size 640x480 with 1 Axes>"
      ]
     },
     "metadata": {},
     "output_type": "display_data"
    }
   ],
   "source": [
    "import seaborn as sns\n",
    "sns.boxplot(df[\"Sorting Time\"])\n",
    "sns.boxplot(df[\"Delivery Time\"])"
   ]
  },
  {
   "cell_type": "code",
   "execution_count": 9,
   "id": "4396d409",
   "metadata": {},
   "outputs": [
    {
     "data": {
      "text/plain": [
       "<Axes: xlabel='Delivery Time'>"
      ]
     },
     "execution_count": 9,
     "metadata": {},
     "output_type": "execute_result"
    },
    {
     "data": {
      "image/png": "[encoded data removed]",
      "text/plain": [
       "<Figure size 640x480 with 1 Axes>"
      ]
     },
     "metadata": {},
     "output_type": "display_data"
    }
   ],
   "source": [
    "t1 = df.groupby(\"Delivery Time\").sum()\n",
    "t1[\"Sorting Time\"].plot(kind=\"bar\",color =\"purple\")"
   ]
  },
  {
   "cell_type": "code",
   "execution_count": 10,
   "id": "b9b69c8f",
   "metadata": {},
   "outputs": [],
   "source": [
    "x=df[[\"Sorting Time\"]]\n",
    "y = df[\"Delivery Time\"]"
   ]
  },
  {
   "cell_type": "markdown",
   "id": "1b988c02",
   "metadata": {},
   "source": [
    "## Model Building"
   ]
  },
  {
   "cell_type": "code",
   "execution_count": 11,
   "id": "50cb566e",
   "metadata": {},
   "outputs": [
    {
     "name": "stdout",
     "output_type": "stream",
     "text": [
      "[10.6425367  12.64236542  8.64270799 16.64202284 24.64133768 12.64236542\n",
      " 18.64185155 24.64133768 18.64185155 16.64202284 22.64150897 16.64202284\n",
      " 18.64185155 18.64185155 12.64236542]\n",
      "[10.6425367  22.64150897 20.64168026 14.64219413 10.6425367  24.64133768]\n"
     ]
    }
   ],
   "source": [
    "from sklearn.model_selection import train_test_split\n",
    "x_train,x_test,y_train,y_test = train_test_split(x,y,train_size=0.75,random_state = 12)\n",
    "x_train.shape\n",
    "x_test.shape\n",
    "\n",
    "from sklearn.linear_model import LinearRegression\n",
    "lr = LinearRegression()\n",
    "lr.fit(x_train,y_train)\n",
    "y_pred_train= lr.predict(x_train)\n",
    "y_pred_test = lr.predict(x_test)\n",
    "print(y_pred_train)\n",
    "print(y_pred_test)"
   ]
  },
  {
   "cell_type": "markdown",
   "id": "5f74573b",
   "metadata": {},
   "source": [
    "## Evaluating Performance using Metrics"
   ]
  },
  {
   "cell_type": "code",
   "execution_count": 12,
   "id": "d4dd12f3",
   "metadata": {},
   "outputs": [
    {
     "name": "stdout",
     "output_type": "stream",
     "text": [
      "The training mean square error is  4.69\n",
      "The training Root mean square error 2.1656407827707715\n",
      "The testing mean square error is  18.39\n",
      "The testing Root mean square error 4.288356328478313\n"
     ]
    }
   ],
   "source": [
    "import numpy as np\n",
    "from sklearn.metrics import mean_squared_error\n",
    "mse = mean_squared_error(y_train, y_pred_train)\n",
    "print(\"The training mean square error is \",mse.round(2))\n",
    "print(\"The training Root mean square error\",np.sqrt(mse.round(2)))\n",
    "mse = mean_squared_error(y_test, y_pred_test)\n",
    "print(\"The testing mean square error is \",mse.round(2))\n",
    "print(\"The testing Root mean square error\",np.sqrt(mse.round(2)))"
   ]
  },
  {
   "cell_type": "code",
   "execution_count": 13,
   "id": "e82a0149",
   "metadata": {},
   "outputs": [
    {
     "name": "stdout",
     "output_type": "stream",
     "text": [
      "R square of training data: 0.823\n",
      "R square of test data: 0.058\n"
     ]
    }
   ],
   "source": [
    "from sklearn.metrics import r2_score\n",
    "r2 = r2_score(y_train,y_pred_train)\n",
    "print(\"R square of training data:\", r2.round(3))\n",
    "\n",
    "from sklearn.metrics import r2_score\n",
    "r2 = r2_score(y_test,y_pred_test)\n",
    "print(\"R square of test data:\", r2.round(3))\n",
    "\n"
   ]
  },
  {
   "cell_type": "code",
   "execution_count": 14,
   "id": "ee9939eb",
   "metadata": {},
   "outputs": [
    {
     "data": {
      "text/plain": [
       "Text(0, 0.5, 'Delivery Time')"
      ]
     },
     "execution_count": 14,
     "metadata": {},
     "output_type": "execute_result"
    },
    {
     "data": {
      "image/png": "[encoded data removed]",
      "text/plain": [
       "<Figure size 640x480 with 1 Axes>"
      ]
     },
     "metadata": {},
     "output_type": "display_data"
    }
   ],
   "source": [
    "import matplotlib.pyplot as plt\n",
    "plt.scatter(x_test,y_test,color = \"green\")\n",
    "plt.plot(x_test,y_pred_test,color= \"red\",linewidth= 0.2)\n",
    "plt.xlabel(\"Sorting Time\")\n",
    "plt.ylabel(\"Delivery Time\")"
   ]
  },
  {
   "cell_type": "markdown",
   "id": "ae53fdd5",
   "metadata": {},
   "source": [
    "## Logarithmic transformation"
   ]
  },
  {
   "cell_type": "code",
   "execution_count": 15,
   "id": "d4506729",
   "metadata": {},
   "outputs": [],
   "source": [
    "# By applying Logarithmic transformation \n",
    "from sklearn.preprocessing import FunctionTransformer\n",
    "from sklearn.compose import ColumnTransformer\n",
    "trf = FunctionTransformer(func= np.log1p)\n",
    "x_train_trf = trf.fit_transform(x_train)\n",
    "x_test_trf = trf.fit_transform(x_test)\n"
   ]
  },
  {
   "cell_type": "code",
   "execution_count": 16,
   "id": "f667b74a",
   "metadata": {},
   "outputs": [
    {
     "name": "stdout",
     "output_type": "stream",
     "text": [
      "[10.39032193 13.19732115  6.77147052 17.42992075 23.11559655 13.19732115\n",
      " 19.10965791 23.11559655 19.10965791 17.42992075 21.91665713 17.42992075\n",
      " 19.10965791 19.10965791 13.19732115]\n",
      "[10.39032193 21.91665713 20.59129109 15.49080651 10.39032193 23.11559655]\n"
     ]
    }
   ],
   "source": [
    "from sklearn.linear_model import LinearRegression\n",
    "lr = LinearRegression()\n",
    "lr.fit(x_train_trf,y_train)\n",
    "y_pred_train_trf= lr.predict(x_train_trf)\n",
    "y_pred_test_trf = lr.predict(x_test_trf)\n",
    "print(y_pred_train_trf)\n",
    "print(y_pred_test_trf)"
   ]
  },
  {
   "cell_type": "code",
   "execution_count": 17,
   "id": "5afccbec",
   "metadata": {},
   "outputs": [
    {
     "name": "stdout",
     "output_type": "stream",
     "text": [
      "The training mean square error is  5.89\n",
      "The training Root mean square error 2.4269322199023193\n",
      "The testing mean square error is  12.66\n",
      "The testing Root mean square error 3.558089374931439\n"
     ]
    }
   ],
   "source": [
    "import numpy as np\n",
    "from sklearn.metrics import mean_squared_error\n",
    "mse = mean_squared_error(y_train, y_pred_train_trf)\n",
    "print(\"The training mean square error is \",mse.round(2))\n",
    "print(\"The training Root mean square error\",np.sqrt(mse.round(2)))\n",
    "mse = mean_squared_error(y_test, y_pred_test_trf)\n",
    "print(\"The testing mean square error is \",mse.round(2))\n",
    "print(\"The testing Root mean square error\",np.sqrt(mse.round(2)))\n"
   ]
  },
  {
   "cell_type": "code",
   "execution_count": 18,
   "id": "cc47f696",
   "metadata": {},
   "outputs": [
    {
     "name": "stdout",
     "output_type": "stream",
     "text": [
      "R square of training data: 0.778\n",
      "R square of testing data: 0.352\n"
     ]
    }
   ],
   "source": [
    "from sklearn.metrics import r2_score\n",
    "r2 = r2_score(y_train,y_pred_train_trf)\n",
    "print(\"R square of training data:\", r2.round(3))\n",
    "r2 = r2_score(y_test,y_pred_test_trf)\n",
    "print(\"R square of testing data:\", r2.round(3))\n"
   ]
  },
  {
   "cell_type": "code",
   "execution_count": 19,
   "id": "fb4c819c",
   "metadata": {},
   "outputs": [
    {
     "name": "stderr",
     "output_type": "stream",
     "text": [
      "C:\\Users\\ASUS\\AppData\\Local\\Temp\\ipykernel_22036\\3865179132.py:2: UserWarning: \n",
      "\n",
      "`distplot` is a deprecated function and will be removed in seaborn v0.14.0.\n",
      "\n",
      "Please adapt your code to use either `displot` (a figure-level function with\n",
      "similar flexibility) or `histplot` (an axes-level function for histograms).\n",
      "\n",
      "For a guide to updating your code to use the new functions, please see\n",
      "https://gist.github.com/mwaskom/de44147ed2974457ad6372750bbe5751\n",
      "\n",
      "  sns.distplot(x_train_trf)\n"
     ]
    },
    {
     "data": {
      "text/plain": [
       "<Axes: ylabel='Density'>"
      ]
     },
     "execution_count": 19,
     "metadata": {},
     "output_type": "execute_result"
    },
    {
     "data": {
      "image/png": "[encoded data removed]",
      "text/plain": [
       "<Figure size 640x480 with 1 Axes>"
      ]
     },
     "metadata": {},
     "output_type": "display_data"
    }
   ],
   "source": [
    "import seaborn as sns\n",
    "sns.distplot(x_train_trf)"
   ]
  },
  {
   "cell_type": "markdown",
   "id": "879257cc",
   "metadata": {},
   "source": [
    "## Square Root transformation"
   ]
  },
  {
   "cell_type": "code",
   "execution_count": 20,
   "id": "10402507",
   "metadata": {},
   "outputs": [],
   "source": [
    "from sklearn.preprocessing import FunctionTransformer\n",
    "from sklearn.compose import ColumnTransformer\n",
    "trf = FunctionTransformer(func= np.sqrt)\n",
    "x_train_trf = trf.fit_transform(x_train)\n",
    "x_test_trf = trf.fit_transform(x_test)\n",
    "\n"
   ]
  },
  {
   "cell_type": "code",
   "execution_count": 21,
   "id": "61bfe05a",
   "metadata": {},
   "outputs": [
    {
     "name": "stdout",
     "output_type": "stream",
     "text": [
      "[10.42168881 12.92350016  7.45407834 17.12033513 23.77555542 12.92350016\n",
      " 18.95280723 23.77555542 18.95280723 17.12033513 22.26038723 17.12033513\n",
      " 18.95280723 18.95280723 12.92350016]\n",
      "[10.42168881 22.26038723 20.65843067 15.12764021 10.42168881 23.77555542]\n"
     ]
    }
   ],
   "source": [
    "from sklearn.linear_model import LinearRegression\n",
    "lr = LinearRegression()\n",
    "lr.fit(x_train_trf,y_train)\n",
    "y_pred_train_trf= lr.predict(x_train_trf)\n",
    "y_pred_test_trf = lr.predict(x_test_trf)\n",
    "print(y_pred_train_trf)\n",
    "print(y_pred_test_trf)"
   ]
  },
  {
   "cell_type": "code",
   "execution_count": 22,
   "id": "f1d5fac9",
   "metadata": {},
   "outputs": [
    {
     "name": "stdout",
     "output_type": "stream",
     "text": [
      "The training mean square error is  5.22\n",
      "The training Root mean square error 2.2847319317591723\n",
      "The test mean square error is  15.03\n",
      "The test Root mean square error 3.8768543949960255\n"
     ]
    }
   ],
   "source": [
    "import numpy as np\n",
    "from sklearn.metrics import mean_squared_error\n",
    "mse = mean_squared_error(y_train, y_pred_train_trf)\n",
    "print(\"The training mean square error is \",mse.round(2))\n",
    "print(\"The training Root mean square error\",np.sqrt(mse.round(2)))\n",
    "mse = mean_squared_error(y_test, y_pred_test_trf)\n",
    "print(\"The test mean square error is \",mse.round(2))\n",
    "print(\"The test Root mean square error\",np.sqrt(mse.round(2)))"
   ]
  },
  {
   "cell_type": "code",
   "execution_count": 23,
   "id": "831ddd23",
   "metadata": {},
   "outputs": [
    {
     "name": "stdout",
     "output_type": "stream",
     "text": [
      "R square of training data: 0.803\n",
      "R square of testing data: 0.23\n"
     ]
    }
   ],
   "source": [
    "from sklearn.metrics import r2_score\n",
    "r2 = r2_score(y_train,y_pred_train_trf)\n",
    "print(\"R square of training data:\", r2.round(3))\n",
    "r2 = r2_score(y_test,y_pred_test_trf)\n",
    "print(\"R square of testing data:\", r2.round(3))\n"
   ]
  },
  {
   "cell_type": "markdown",
   "id": "d6932ea0",
   "metadata": {},
   "source": [
    "##  Square transformation"
   ]
  },
  {
   "cell_type": "code",
   "execution_count": 24,
   "id": "8d1762f4",
   "metadata": {},
   "outputs": [],
   "source": [
    "from sklearn.preprocessing import FunctionTransformer\n",
    "from sklearn.compose import ColumnTransformer\n",
    "trf = FunctionTransformer(func= np.square)\n",
    "x_train_trf = trf.fit_transform(x_train)\n",
    "x_test_trf = trf.fit_transform(x_test)\n",
    "\n",
    "\n",
    "\n"
   ]
  },
  {
   "cell_type": "code",
   "execution_count": 25,
   "id": "a519c198",
   "metadata": {},
   "outputs": [
    {
     "name": "stdout",
     "output_type": "stream",
     "text": [
      "[11.56250771 12.66103352 10.77784642 15.7996787  25.84334328 12.66103352\n",
      " 17.83979807 25.84334328 17.83979807 15.7996787  22.86163036 15.7996787\n",
      " 17.83979807 17.83979807 12.66103352]\n",
      "[11.56250771 22.86163036 20.19378195 14.07342385 11.56250771 25.84334328]\n"
     ]
    }
   ],
   "source": [
    "from sklearn.linear_model import LinearRegression\n",
    "lr = LinearRegression()\n",
    "lr.fit(x_train_trf,y_train)\n",
    "y_pred_train_trf= lr.predict(x_train_trf)\n",
    "y_pred_test_trf = lr.predict(x_test_trf)\n",
    "print(y_pred_train_trf)\n",
    "print(y_pred_test_trf)"
   ]
  },
  {
   "cell_type": "code",
   "execution_count": 26,
   "id": "5ad866c5",
   "metadata": {},
   "outputs": [
    {
     "name": "stdout",
     "output_type": "stream",
     "text": [
      "The training mean square error is  4.98\n",
      "The training Root mean square error 2.23159136044214\n",
      "The testing mean square error is  23.26\n",
      "The testing Root mean square error 4.822862220714998\n"
     ]
    }
   ],
   "source": [
    "import numpy as np\n",
    "from sklearn.metrics import mean_squared_error\n",
    "mse = mean_squared_error(y_train, y_pred_train_trf)\n",
    "print(\"The training mean square error is \",mse.round(2))\n",
    "print(\"The training Root mean square error\",np.sqrt(mse.round(2)))\n",
    "mse = mean_squared_error(y_test, y_pred_test_trf)\n",
    "print(\"The testing mean square error is \",mse.round(2))\n",
    "print(\"The testing Root mean square error\",np.sqrt(mse.round(2)))"
   ]
  },
  {
   "cell_type": "code",
   "execution_count": 26,
   "id": "87652ed1",
   "metadata": {},
   "outputs": [
    {
     "name": "stdout",
     "output_type": "stream",
     "text": [
      "R square of training data: 0.812\n",
      "R square of testing data: -0.192\n"
     ]
    }
   ],
   "source": [
    "from sklearn.metrics import r2_score\n",
    "r2 = r2_score(y_train,y_pred_train_trf)\n",
    "print(\"R square of training data:\", r2.round(3))\n",
    "r2 = r2_score(y_test,y_pred_test_trf)\n",
    "print(\"R square of testing data:\", r2.round(3))\n"
   ]
  },
  {
   "cell_type": "code",
   "execution_count": null,
   "id": "b4a61ad4",
   "metadata": {},
   "outputs": [],
   "source": [
    "The training mean square error is  4.69\n",
    "The training Root mean square error 2.1656407827707715\n",
    "The testing mean square error is  18.39\n",
    "The testing Root mean square error 4.288356328478313\n",
    "R square of training data: 0.823\n",
    "R square of test data: 0.058\n",
    "\n",
    "    \n",
    "Therefore, From above transformations we can conclude the rmse and r2_score:\n",
    "Logarithmic Transformation:  \n",
    "The training mean square error is  5.89\n",
    "The training Root mean square error 2.4269322199023193\n",
    "The testing mean square error is  12.66\n",
    "The testing Root mean square error 3.558089374931439\n",
    "R square of training data: 0.778\n",
    "R square of testing data: 0.352\n",
    "SQRT Transformation:\n",
    "The training mean square error is  5.22\n",
    "The training Root mean square error 2.2847319317591723\n",
    "The test mean square error is  15.03\n",
    "The test Root mean square error 3.8768543949960255\n",
    "R square of training data: 0.803\n",
    "R square of testing data: 0.23\n",
    "SQUARE Transformation:\n",
    "The training mean square error is  4.98\n",
    "The training Root mean square error 2.23159136044214\n",
    "The testing mean square error is  23.26\n",
    "The testing Root mean square error 4.822862220714998\n",
    "R square of training data: 0.812\n",
    "R square of testing data: -0.192\n"
   ]
  }
 ],
 "metadata": {
  "kernelspec": {
   "display_name": "Python 3 (ipykernel)",
   "language": "python",
   "name": "python3"
  },
  "language_info": {
   "codemirror_mode": {
    "name": "ipython",
    "version": 3
   },
   "file_extension": ".py",
   "mimetype": "text/x-python",
   "name": "python",
   "nbconvert_exporter": "python",
   "pygments_lexer": "ipython3",
   "version": "3.10.9"
  }
 },
 "nbformat": 4,
 "nbformat_minor": 5
}
