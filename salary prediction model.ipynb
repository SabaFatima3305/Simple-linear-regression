{
 "cells": [
  {
   "cell_type": "code",
   "execution_count": 2,
   "id": "10d46425",
   "metadata": {},
   "outputs": [
    {
     "data": {
      "text/html": [
       "<div>\n",
       "<style scoped>\n",
       "    .dataframe tbody tr th:only-of-type {\n",
       "        vertical-align: middle;\n",
       "    }\n",
       "\n",
       "    .dataframe tbody tr th {\n",
       "        vertical-align: top;\n",
       "    }\n",
       "\n",
       "    .dataframe thead th {\n",
       "        text-align: right;\n",
       "    }\n",
       "</style>\n",
       "<table border=\"1\" class=\"dataframe\">\n",
       "  <thead>\n",
       "    <tr style=\"text-align: right;\">\n",
       "      <th></th>\n",
       "      <th>YearsExperience</th>\n",
       "      <th>Salary</th>\n",
       "    </tr>\n",
       "  </thead>\n",
       "  <tbody>\n",
       "    <tr>\n",
       "      <th>0</th>\n",
       "      <td>1.1</td>\n",
       "      <td>39343.0</td>\n",
       "    </tr>\n",
       "    <tr>\n",
       "      <th>1</th>\n",
       "      <td>1.3</td>\n",
       "      <td>46205.0</td>\n",
       "    </tr>\n",
       "    <tr>\n",
       "      <th>2</th>\n",
       "      <td>1.5</td>\n",
       "      <td>37731.0</td>\n",
       "    </tr>\n",
       "    <tr>\n",
       "      <th>3</th>\n",
       "      <td>2.0</td>\n",
       "      <td>43525.0</td>\n",
       "    </tr>\n",
       "    <tr>\n",
       "      <th>4</th>\n",
       "      <td>2.2</td>\n",
       "      <td>39891.0</td>\n",
       "    </tr>\n",
       "  </tbody>\n",
       "</table>\n",
       "</div>"
      ],
      "text/plain": [
       "   YearsExperience   Salary\n",
       "0              1.1  39343.0\n",
       "1              1.3  46205.0\n",
       "2              1.5  37731.0\n",
       "3              2.0  43525.0\n",
       "4              2.2  39891.0"
      ]
     },
     "execution_count": 2,
     "metadata": {},
     "output_type": "execute_result"
    }
   ],
   "source": [
    "import pandas as pd\n",
    "df = pd.read_csv(\"C:/Users/ASUS/OneDrive/Documents/data science/DS Assignments/simple linear regg/Salary_Data.csv\")\n",
    "df\n",
    "df.head()"
   ]
  },
  {
   "cell_type": "markdown",
   "id": "6cc907a2",
   "metadata": {},
   "source": [
    "## Exploratory Data Analysis\n"
   ]
  },
  {
   "cell_type": "code",
   "execution_count": 3,
   "id": "042aeb42",
   "metadata": {},
   "outputs": [
    {
     "name": "stdout",
     "output_type": "stream",
     "text": [
      "<class 'pandas.core.frame.DataFrame'>\n",
      "RangeIndex: 30 entries, 0 to 29\n",
      "Data columns (total 2 columns):\n",
      " #   Column           Non-Null Count  Dtype  \n",
      "---  ------           --------------  -----  \n",
      " 0   YearsExperience  30 non-null     float64\n",
      " 1   Salary           30 non-null     float64\n",
      "dtypes: float64(2)\n",
      "memory usage: 608.0 bytes\n"
     ]
    }
   ],
   "source": [
    "df.shape\n",
    "\n",
    "df.info()\n"
   ]
  },
  {
   "cell_type": "code",
   "execution_count": 41,
   "id": "8176b6c2",
   "metadata": {},
   "outputs": [
    {
     "data": {
      "text/plain": [
       "-1.0122119403325072"
      ]
     },
     "execution_count": 41,
     "metadata": {},
     "output_type": "execute_result"
    }
   ],
   "source": [
    "df[\"Salary\"].kurt()\n",
    "\n",
    "df[\"YearsExperience\"].kurt()\n"
   ]
  },
  {
   "cell_type": "code",
   "execution_count": 5,
   "id": "c52db250",
   "metadata": {},
   "outputs": [
    {
     "data": {
      "text/html": [
       "<div>\n",
       "<style scoped>\n",
       "    .dataframe tbody tr th:only-of-type {\n",
       "        vertical-align: middle;\n",
       "    }\n",
       "\n",
       "    .dataframe tbody tr th {\n",
       "        vertical-align: top;\n",
       "    }\n",
       "\n",
       "    .dataframe thead th {\n",
       "        text-align: right;\n",
       "    }\n",
       "</style>\n",
       "<table border=\"1\" class=\"dataframe\">\n",
       "  <thead>\n",
       "    <tr style=\"text-align: right;\">\n",
       "      <th></th>\n",
       "      <th>YearsExperience</th>\n",
       "      <th>Salary</th>\n",
       "    </tr>\n",
       "  </thead>\n",
       "  <tbody>\n",
       "    <tr>\n",
       "      <th>count</th>\n",
       "      <td>30.000000</td>\n",
       "      <td>30.000000</td>\n",
       "    </tr>\n",
       "    <tr>\n",
       "      <th>mean</th>\n",
       "      <td>5.313333</td>\n",
       "      <td>76003.000000</td>\n",
       "    </tr>\n",
       "    <tr>\n",
       "      <th>std</th>\n",
       "      <td>2.837888</td>\n",
       "      <td>27414.429785</td>\n",
       "    </tr>\n",
       "    <tr>\n",
       "      <th>min</th>\n",
       "      <td>1.100000</td>\n",
       "      <td>37731.000000</td>\n",
       "    </tr>\n",
       "    <tr>\n",
       "      <th>25%</th>\n",
       "      <td>3.200000</td>\n",
       "      <td>56720.750000</td>\n",
       "    </tr>\n",
       "    <tr>\n",
       "      <th>50%</th>\n",
       "      <td>4.700000</td>\n",
       "      <td>65237.000000</td>\n",
       "    </tr>\n",
       "    <tr>\n",
       "      <th>75%</th>\n",
       "      <td>7.700000</td>\n",
       "      <td>100544.750000</td>\n",
       "    </tr>\n",
       "    <tr>\n",
       "      <th>max</th>\n",
       "      <td>10.500000</td>\n",
       "      <td>122391.000000</td>\n",
       "    </tr>\n",
       "  </tbody>\n",
       "</table>\n",
       "</div>"
      ],
      "text/plain": [
       "       YearsExperience         Salary\n",
       "count        30.000000      30.000000\n",
       "mean          5.313333   76003.000000\n",
       "std           2.837888   27414.429785\n",
       "min           1.100000   37731.000000\n",
       "25%           3.200000   56720.750000\n",
       "50%           4.700000   65237.000000\n",
       "75%           7.700000  100544.750000\n",
       "max          10.500000  122391.000000"
      ]
     },
     "execution_count": 5,
     "metadata": {},
     "output_type": "execute_result"
    }
   ],
   "source": [
    "df.describe()\n"
   ]
  },
  {
   "cell_type": "code",
   "execution_count": 6,
   "id": "c64ea6f7",
   "metadata": {},
   "outputs": [
    {
     "name": "stdout",
     "output_type": "stream",
     "text": [
      "<class 'pandas.core.frame.DataFrame'>\n",
      "RangeIndex: 30 entries, 0 to 29\n",
      "Data columns (total 2 columns):\n",
      " #   Column           Non-Null Count  Dtype  \n",
      "---  ------           --------------  -----  \n",
      " 0   YearsExperience  30 non-null     float64\n",
      " 1   Salary           30 non-null     float64\n",
      "dtypes: float64(2)\n",
      "memory usage: 608.0 bytes\n"
     ]
    }
   ],
   "source": [
    "df.info()"
   ]
  },
  {
   "cell_type": "code",
   "execution_count": 7,
   "id": "83c899d8",
   "metadata": {},
   "outputs": [
    {
     "data": {
      "text/plain": [
       "<Axes: >"
      ]
     },
     "execution_count": 7,
     "metadata": {},
     "output_type": "execute_result"
    },
    {
     "data": {
      "image/png": "[encoded data removed]",
      "text/plain": [
       "<Figure size 640x480 with 1 Axes>"
      ]
     },
     "metadata": {},
     "output_type": "display_data"
    }
   ],
   "source": [
    "df[\"Salary\"].hist()"
   ]
  },
  {
   "cell_type": "code",
   "execution_count": 8,
   "id": "f318094c",
   "metadata": {},
   "outputs": [
    {
     "data": {
      "text/plain": [
       "YearsExperience    0\n",
       "Salary             0\n",
       "dtype: int64"
      ]
     },
     "execution_count": 8,
     "metadata": {},
     "output_type": "execute_result"
    }
   ],
   "source": [
    "df.isnull().sum()"
   ]
  },
  {
   "cell_type": "code",
   "execution_count": 12,
   "id": "9cab1a50",
   "metadata": {},
   "outputs": [
    {
     "data": {
      "text/plain": [
       "Text(0.5, 0, 'BOX Plot Of Salary')"
      ]
     },
     "execution_count": 12,
     "metadata": {},
     "output_type": "execute_result"
    },
    {
     "data": {
      "image/png": "[encoded data removed]",
      "text/plain": [
       "<Figure size 640x480 with 1 Axes>"
      ]
     },
     "metadata": {},
     "output_type": "display_data"
    }
   ],
   "source": [
    "import matplotlib.pyplot as plt\n",
    "plt.boxplot(df[\"Salary\"])\n",
    "plt.xlabel(\"BOX Plot Of Salary\")"
   ]
  },
  {
   "cell_type": "code",
   "execution_count": 13,
   "id": "155125ca",
   "metadata": {},
   "outputs": [
    {
     "data": {
      "text/plain": [
       "Text(0.5, 0, 'Box Plot For Years of Experience')"
      ]
     },
     "execution_count": 13,
     "metadata": {},
     "output_type": "execute_result"
    },
    {
     "data": {
      "image/png": "[encoded data removed]",
      "text/plain": [
       "<Figure size 640x480 with 1 Axes>"
      ]
     },
     "metadata": {},
     "output_type": "display_data"
    }
   ],
   "source": [
    "plt.boxplot(df[\"YearsExperience\"])\n",
    "plt.xlabel(\"Box Plot For Years of Experience\")"
   ]
  },
  {
   "cell_type": "markdown",
   "id": "39558140",
   "metadata": {},
   "source": [
    "### From the above boxplots, we can conclude that there are no outliers present in the dataset and the data is negatively skewed."
   ]
  },
  {
   "cell_type": "code",
   "execution_count": 14,
   "id": "64b1a9e8",
   "metadata": {},
   "outputs": [
    {
     "data": {
      "text/plain": [
       "Text(0, 0.5, 'Years Experience')"
      ]
     },
     "execution_count": 14,
     "metadata": {},
     "output_type": "execute_result"
    },
    {
     "data": {
      "image/png": "[encoded data removed]",
      "text/plain": [
       "<Figure size 640x480 with 1 Axes>"
      ]
     },
     "metadata": {},
     "output_type": "display_data"
    }
   ],
   "source": [
    "import matplotlib.pyplot as plt\n",
    "plt.scatter(x= df[\"Salary\"], y = df[\"YearsExperience\"],color = \"Orange\")\n",
    "plt.xlabel(\"Salary\")\n",
    "plt.ylabel(\"Years Experience\")"
   ]
  },
  {
   "cell_type": "code",
   "execution_count": 15,
   "id": "93cef88c",
   "metadata": {},
   "outputs": [
    {
     "data": {
      "text/plain": [
       "<Axes: >"
      ]
     },
     "execution_count": 15,
     "metadata": {},
     "output_type": "execute_result"
    },
    {
     "data": {
      "image/png": "[encoded data removed]",
      "text/plain": [
       "<Figure size 640x480 with 1 Axes>"
      ]
     },
     "metadata": {},
     "output_type": "display_data"
    }
   ],
   "source": [
    "import seaborn as sns\n",
    "sns.boxplot(df[\"Salary\"])\n",
    "sns.boxplot(df[\"YearsExperience\"])"
   ]
  },
  {
   "cell_type": "code",
   "execution_count": 16,
   "id": "d2dac494",
   "metadata": {},
   "outputs": [
    {
     "data": {
      "text/plain": [
       "Text(0, 0.5, 'Salary')"
      ]
     },
     "execution_count": 16,
     "metadata": {},
     "output_type": "execute_result"
    },
    {
     "data": {
      "image/png": "[encoded data removed]",
      "text/plain": [
       "<Figure size 640x480 with 1 Axes>"
      ]
     },
     "metadata": {},
     "output_type": "display_data"
    }
   ],
   "source": [
    "\n",
    "t1 = df.groupby(\"YearsExperience\").sum()\n",
    "t1[\"Salary\"].plot(kind=\"bar\",color =\"purple\")\n",
    "plt.ylabel(\"Salary\")"
   ]
  },
  {
   "cell_type": "markdown",
   "id": "c433767f",
   "metadata": {},
   "source": [
    "## Data Transformation"
   ]
  },
  {
   "cell_type": "code",
   "execution_count": 17,
   "id": "4ad262fd",
   "metadata": {},
   "outputs": [
    {
     "data": {
      "text/plain": [
       "[<matplotlib.lines.Line2D at 0x1c8b1e1c280>]"
      ]
     },
     "execution_count": 17,
     "metadata": {},
     "output_type": "execute_result"
    },
    {
     "data": {
      "image/png": "[encoded data removed]",
      "text/plain": [
       "<Figure size 640x480 with 1 Axes>"
      ]
     },
     "metadata": {},
     "output_type": "display_data"
    }
   ],
   "source": [
    "df_ys=df.drop(df.columns[[1]],axis=1)\n",
    "df_ys\n",
    "df_ys.shape\n",
    "from sklearn.preprocessing import MinMaxScaler\n",
    "ss = MinMaxScaler()\n",
    "ss_x = ss.fit_transform(df_ys)\n",
    "x = pd.DataFrame(ss_x)\n",
    "x.columns=list(df_ys)\n",
    "x.head()\n",
    "y= df[\"Salary\"]\n",
    "#x= df[[\"YearsExperience\"]]\n",
    "plt.plot(x,y)"
   ]
  },
  {
   "cell_type": "markdown",
   "id": "8b2478b9",
   "metadata": {},
   "source": [
    "## Model Building"
   ]
  },
  {
   "cell_type": "code",
   "execution_count": 18,
   "id": "c7006946",
   "metadata": {},
   "outputs": [
    {
     "name": "stdout",
     "output_type": "stream",
     "text": [
      "[121106.9139691  122986.07307536 108892.37977837  62852.98167485\n",
      "  51578.02703725 113590.27754403  72248.77720618  61913.40212172\n",
      " 106073.64111897  43121.81105906  38423.91329339  74127.93631245\n",
      "  52517.60659039 114529.85709717  61913.40212172]\n",
      "[ 54396.76569665  98557.00469391  79765.41363124  66611.29988738\n",
      "  36544.75418713  91040.36826884  45000.97016532  70369.61809991\n",
      " 101375.7433533   59094.66346232  88221.62960944  54396.76569665\n",
      "  80704.99318438  34665.59508086  60973.82256858]\n",
      "The slope of lr [88320.4779945]\n",
      "The intercept of lr  34665.59508085949\n"
     ]
    }
   ],
   "source": [
    "from sklearn.model_selection import train_test_split\n",
    "x_train,x_test,y_train,y_test = train_test_split(x,y,train_size=0.5,random_state = 12)\n",
    "x_train.shape\n",
    "x_test.shape\n",
    "\n",
    "from sklearn.linear_model import LinearRegression\n",
    "lr = LinearRegression()\n",
    "lr.fit(x_train,y_train)\n",
    "y_pred_train= lr.predict(x_train)\n",
    "y_pred_test = lr.predict(x_test)\n",
    "print(y_pred_train)\n",
    "print(y_pred_test)\n",
    "print(\"The slope of lr\",lr.coef_)#B1\n",
    "print(\"The intercept of lr \",lr.intercept_)#b0 as lr = b0 + b1x1"
   ]
  },
  {
   "cell_type": "markdown",
   "id": "4a5423e8",
   "metadata": {},
   "source": [
    "## Evaluating Performance by using Metrics"
   ]
  },
  {
   "cell_type": "code",
   "execution_count": null,
   "id": "6a1c244b",
   "metadata": {},
   "outputs": [],
   "source": [
    "import numpy as np\n",
    "from sklearn.metrics import mean_squared_error\n",
    "mse = mean_squared_error(y_train, y_pred_train)\n",
    "print(\"The training mean square error is \",mse.round(2))\n",
    "print(\"The training Root mean square error\",np.sqrt(mse.round(2)))"
   ]
  },
  {
   "cell_type": "code",
   "execution_count": 20,
   "id": "83b5b337",
   "metadata": {},
   "outputs": [
    {
     "name": "stdout",
     "output_type": "stream",
     "text": [
      "The testing mean square error is  46113502.66\n",
      "The testing Root mean square error 6790.692354981191\n"
     ]
    }
   ],
   "source": [
    "import numpy as np\n",
    "from sklearn.metrics import mean_squared_error\n",
    "mse = mean_squared_error(y_test, y_pred_test)\n",
    "print(\"The testing mean square error is \",mse.round(2))\n",
    "print(\"The testing Root mean square error\",np.sqrt(mse.round(2)))"
   ]
  },
  {
   "cell_type": "code",
   "execution_count": 21,
   "id": "18b0e11a",
   "metadata": {},
   "outputs": [
    {
     "data": {
      "text/plain": [
       "Text(0, 0.5, 'Years of Experience')"
      ]
     },
     "execution_count": 21,
     "metadata": {},
     "output_type": "execute_result"
    },
    {
     "data": {
      "image/png": "[encoded data removed]",
      "text/plain": [
       "<Figure size 640x480 with 1 Axes>"
      ]
     },
     "metadata": {},
     "output_type": "display_data"
    }
   ],
   "source": [
    "import matplotlib.pyplot as plt\n",
    "plt.scatter(x_test,y_test,color = \"green\")\n",
    "plt.plot(x_test,y_pred_test,color= \"red\",linewidth= 0.2)\n",
    "plt.xlabel(\"Salary\")\n",
    "plt.ylabel(\"Years of Experience\")"
   ]
  },
  {
   "cell_type": "code",
   "execution_count": 22,
   "id": "c3b767d6",
   "metadata": {},
   "outputs": [
    {
     "name": "stdout",
     "output_type": "stream",
     "text": [
      "R square of training data: 0.975\n"
     ]
    }
   ],
   "source": [
    "from sklearn.metrics import r2_score\n",
    "r2 = r2_score(y_train,y_pred_train)\n",
    "print(\"R square of training data:\", r2.round(3))\n",
    "\n"
   ]
  },
  {
   "cell_type": "code",
   "execution_count": 23,
   "id": "caa1ed7b",
   "metadata": {},
   "outputs": [
    {
     "name": "stdout",
     "output_type": "stream",
     "text": [
      "R square of test data: 0.911\n"
     ]
    }
   ],
   "source": [
    "from sklearn.metrics import r2_score\n",
    "r2 = r2_score(y_test,y_pred_test)\n",
    "print(\"R square of test data:\", r2.round(3))\n",
    "\n"
   ]
  },
  {
   "cell_type": "markdown",
   "id": "27c2290e",
   "metadata": {},
   "source": [
    "## Logarithmic Transformation"
   ]
  },
  {
   "cell_type": "code",
   "execution_count": 24,
   "id": "8e382a46",
   "metadata": {},
   "outputs": [
    {
     "data": {
      "text/plain": [
       "((array([-1.69372899, -1.22918025, -0.93620006, -0.70737068, -0.51078428,\n",
       "         -0.33229293, -0.1638693 ,  0.        ,  0.1638693 ,  0.33229293,\n",
       "          0.51078428,  0.70737068,  0.93620006,  1.22918025,  1.69372899]),\n",
       "  array([0.04255319, 0.09574468, 0.19148936, 0.20212766, 0.30851064,\n",
       "         0.30851064, 0.31914894, 0.42553191, 0.44680851, 0.80851064,\n",
       "         0.84042553, 0.89361702, 0.90425532, 0.9787234 , 1.        ])),\n",
       " (0.3511335610808498, 0.5177304964539007, 0.951907334872415))"
      ]
     },
     "execution_count": 24,
     "metadata": {},
     "output_type": "execute_result"
    },
    {
     "data": {
      "image/png": "[encoded data removed]",
      "text/plain": [
       "<Figure size 640x480 with 1 Axes>"
      ]
     },
     "metadata": {},
     "output_type": "display_data"
    }
   ],
   "source": [
    "#Applying Data transformation and predicting salary\n",
    "#step : 1 check whether data is normal distributed by finding skewness or by plotting QQ-plot\n",
    "import matplotlib.pyplot as plt\n",
    "from scipy import stats\n",
    "stats.probplot(x_train[\"YearsExperience\"],dist=\"norm\",plot=plt)"
   ]
  },
  {
   "cell_type": "code",
   "execution_count": 25,
   "id": "c7db58a6",
   "metadata": {},
   "outputs": [
    {
     "data": {
      "text/plain": [
       "0.20574550702738134"
      ]
     },
     "execution_count": 25,
     "metadata": {},
     "output_type": "execute_result"
    }
   ],
   "source": [
    "#calculate skewness\n",
    "x_train[\"YearsExperience\"].skew()\n",
    "#its positively skewed"
   ]
  },
  {
   "cell_type": "code",
   "execution_count": 26,
   "id": "182e4829",
   "metadata": {},
   "outputs": [],
   "source": [
    "#its right skewed ,so apply log transformation on data\n",
    "from sklearn.preprocessing import FunctionTransformer\n",
    "from sklearn.compose import ColumnTransformer\n",
    "trf = FunctionTransformer(func= np.log1p)\n",
    "x_train_trf = trf.fit_transform(x_train)\n",
    "x_test_trf = trf.fit_transform(x_test)"
   ]
  },
  {
   "cell_type": "code",
   "execution_count": 27,
   "id": "a15d65d0",
   "metadata": {},
   "outputs": [
    {
     "name": "stdout",
     "output_type": "stream",
     "text": [
      "[118814.69574098 120233.36678467 109203.9295682   65031.98806274\n",
      "  51531.07568999 112983.23017638  75319.65958478  63957.93783686\n",
      " 106883.55882716  40419.46326501  33818.87379696  77284.79890769\n",
      "  52710.14548157 113726.33844016  63957.93783686]\n",
      "[ 55037.30127994 100489.81618517  83011.3491159   69243.27758303\n",
      "  31083.83920586  93772.20467321  42970.3972323   73324.96818908\n",
      " 102923.72810855  60682.59912533  91162.72094635  55037.30127994\n",
      "  83942.19137918  28291.22072927  62875.11975705]\n"
     ]
    }
   ],
   "source": [
    "from sklearn.linear_model import LinearRegression\n",
    "lr = LinearRegression()\n",
    "lr.fit(x_train_trf,y_train)\n",
    "y_pred_train_trf= lr.predict(x_train_trf)\n",
    "y_pred_test_trf = lr.predict(x_test_trf)\n",
    "print(y_pred_train_trf)\n",
    "print(y_pred_test_trf)"
   ]
  },
  {
   "cell_type": "code",
   "execution_count": 28,
   "id": "935a0f47",
   "metadata": {},
   "outputs": [
    {
     "name": "stdout",
     "output_type": "stream",
     "text": [
      "The training mean square error is  30497138.37\n",
      "The training Root mean square error 5522.421422709426\n",
      "The testing mean square error is  53272082.85\n",
      "The testing Root mean square error 7298.772694775472\n"
     ]
    }
   ],
   "source": [
    "import numpy as np\n",
    "from sklearn.metrics import mean_squared_error\n",
    "mse = mean_squared_error(y_train, y_pred_train_trf)\n",
    "print(\"The training mean square error is \",mse.round(2))\n",
    "print(\"The training Root mean square error\",np.sqrt(mse.round(2)))\n",
    "mse = mean_squared_error(y_test, y_pred_test_trf)\n",
    "print(\"The testing mean square error is \",mse.round(2))\n",
    "print(\"The testing Root mean square error\",np.sqrt(mse.round(2)))\n"
   ]
  },
  {
   "cell_type": "code",
   "execution_count": 29,
   "id": "cc5b364d",
   "metadata": {},
   "outputs": [
    {
     "name": "stdout",
     "output_type": "stream",
     "text": [
      "R square of training data: 0.966\n",
      "R square of testing data: 0.898\n"
     ]
    }
   ],
   "source": [
    "from sklearn.metrics import r2_score\n",
    "r2 = r2_score(y_train,y_pred_train_trf)\n",
    "print(\"R square of training data:\", r2.round(3))\n",
    "r2 = r2_score(y_test,y_pred_test_trf)\n",
    "print(\"R square of testing data:\", r2.round(3))\n",
    "\n"
   ]
  },
  {
   "cell_type": "code",
   "execution_count": 30,
   "id": "97e6b807",
   "metadata": {},
   "outputs": [
    {
     "name": "stderr",
     "output_type": "stream",
     "text": [
      "C:\\Users\\ASUS\\AppData\\Local\\Temp\\ipykernel_6908\\3865179132.py:2: UserWarning: \n",
      "\n",
      "`distplot` is a deprecated function and will be removed in seaborn v0.14.0.\n",
      "\n",
      "Please adapt your code to use either `displot` (a figure-level function with\n",
      "similar flexibility) or `histplot` (an axes-level function for histograms).\n",
      "\n",
      "For a guide to updating your code to use the new functions, please see\n",
      "https://gist.github.com/mwaskom/de44147ed2974457ad6372750bbe5751\n",
      "\n",
      "  sns.distplot(x_train_trf)\n"
     ]
    },
    {
     "data": {
      "text/plain": [
       "<Axes: ylabel='Density'>"
      ]
     },
     "execution_count": 30,
     "metadata": {},
     "output_type": "execute_result"
    },
    {
     "data": {
      "image/png": "[encoded data removed]",
      "text/plain": [
       "<Figure size 640x480 with 1 Axes>"
      ]
     },
     "metadata": {},
     "output_type": "display_data"
    }
   ],
   "source": [
    "import seaborn as sns\n",
    "sns.distplot(x_train_trf)"
   ]
  },
  {
   "cell_type": "markdown",
   "id": "3102f7b9",
   "metadata": {},
   "source": [
    "## Square Root Transformation"
   ]
  },
  {
   "cell_type": "code",
   "execution_count": 31,
   "id": "805b394b",
   "metadata": {},
   "outputs": [],
   "source": [
    "from sklearn.preprocessing import FunctionTransformer\n",
    "from sklearn.compose import ColumnTransformer\n",
    "trf = FunctionTransformer(func= np.sqrt)\n",
    "x_train_trf = trf.fit_transform(x_train)\n",
    "x_test_trf = trf.fit_transform(x_test)\n",
    "\n",
    "\n",
    "\n"
   ]
  },
  {
   "cell_type": "code",
   "execution_count": 32,
   "id": "7a8bf0ba",
   "metadata": {},
   "outputs": [
    {
     "name": "stdout",
     "output_type": "stream",
     "text": [
      "[116554.54807972 117778.8812403  108248.78488424  67975.91657053\n",
      "  53399.3323468  111518.78006793  77980.22937085  66888.96698095\n",
      " 106236.93507248  38727.63434314  26920.76357531  79824.28994556\n",
      "  54771.97855606 112160.99198517  66888.96698095]\n",
      "[ 57412.90105379 100668.97260721  85107.42223277  72152.31751552\n",
      "  20004.4588087   94762.6497489   42465.98232475  76089.4615321\n",
      " 102793.48348192  63510.48647928  92446.9415354   57412.90105379\n",
      "  85955.11741446   3307.02203965  65783.10966676]\n"
     ]
    }
   ],
   "source": [
    "from sklearn.linear_model import LinearRegression\n",
    "lr = LinearRegression()\n",
    "lr.fit(x_train_trf,y_train)\n",
    "y_pred_train_trf= lr.predict(x_train_trf)\n",
    "y_pred_test_trf = lr.predict(x_test_trf)\n",
    "print(y_pred_train_trf)\n",
    "print(y_pred_test_trf)"
   ]
  },
  {
   "cell_type": "code",
   "execution_count": 33,
   "id": "75c78c52",
   "metadata": {},
   "outputs": [
    {
     "name": "stdout",
     "output_type": "stream",
     "text": [
      "The training mean square error is  51420017.12\n",
      "The training Root mean square error 7170.775210533377\n",
      "The test mean square error is  166484005.58\n",
      "The test Root mean square error 12902.868114492994\n"
     ]
    }
   ],
   "source": [
    "import numpy as np\n",
    "from sklearn.metrics import mean_squared_error\n",
    "mse = mean_squared_error(y_train, y_pred_train_trf)\n",
    "print(\"The training mean square error is \",mse.round(2))\n",
    "print(\"The training Root mean square error\",np.sqrt(mse.round(2)))\n",
    "mse = mean_squared_error(y_test, y_pred_test_trf)\n",
    "print(\"The test mean square error is \",mse.round(2))\n",
    "print(\"The test Root mean square error\",np.sqrt(mse.round(2)))"
   ]
  },
  {
   "cell_type": "code",
   "execution_count": 34,
   "id": "38e3d040",
   "metadata": {},
   "outputs": [
    {
     "name": "stdout",
     "output_type": "stream",
     "text": [
      "R square of training data: 0.942\n",
      "R square of testing data: 0.68\n"
     ]
    }
   ],
   "source": [
    "from sklearn.metrics import r2_score\n",
    "r2 = r2_score(y_train,y_pred_train_trf)\n",
    "print(\"R square of training data:\", r2.round(3))\n",
    "r2 = r2_score(y_test,y_pred_test_trf)\n",
    "print(\"R square of testing data:\", r2.round(3))\n"
   ]
  },
  {
   "cell_type": "markdown",
   "id": "b5ba35aa",
   "metadata": {},
   "source": [
    "## Square Transformation"
   ]
  },
  {
   "cell_type": "code",
   "execution_count": 35,
   "id": "641d1644",
   "metadata": {},
   "outputs": [],
   "source": [
    "from sklearn.preprocessing import FunctionTransformer\n",
    "from sklearn.compose import ColumnTransformer\n",
    "trf = FunctionTransformer(func= np.square)\n",
    "x_train_trf = trf.fit_transform(x_train)\n",
    "x_test_trf = trf.fit_transform(x_test)\n",
    "\n",
    "\n",
    "\n"
   ]
  },
  {
   "cell_type": "code",
   "execution_count": 36,
   "id": "74db95e1",
   "metadata": {},
   "outputs": [
    {
     "name": "stdout",
     "output_type": "stream",
     "text": [
      "[125432.6814472  128712.2716875  105834.48493055  58747.67989437\n",
      "  53669.60468358 113019.60870971  64918.95185193  58227.52982938\n",
      " 101734.99713017  51527.29170403  50954.24502225  66364.79271056\n",
      "  53995.80048705 114509.53008232  58227.52982938]\n",
      "[54701.08871077 91578.84670859 71125.48822068 61004.60221028\n",
      " 50848.4517887  82551.15744496 51879.93581589 63543.63981568\n",
      " 95255.16157474 56772.87286795 79456.70536338 54701.08871077\n",
      " 71980.65019194 50813.18737751 57725.01196998]\n"
     ]
    }
   ],
   "source": [
    "from sklearn.linear_model import LinearRegression\n",
    "lr = LinearRegression()\n",
    "lr.fit(x_train_trf,y_train)\n",
    "y_pred_train_trf= lr.predict(x_train_trf)\n",
    "y_pred_test_trf = lr.predict(x_test_trf)\n",
    "print(y_pred_train_trf)\n",
    "print(y_pred_test_trf)"
   ]
  },
  {
   "cell_type": "code",
   "execution_count": 37,
   "id": "927f74b0",
   "metadata": {},
   "outputs": [
    {
     "name": "stdout",
     "output_type": "stream",
     "text": [
      "The training mean square error is  47417139.83\n",
      "The training Root mean square error 6886.0104436458705\n",
      "The testing mean square error is  124364053.32\n",
      "The testing Root mean square error 11151.86322190153\n"
     ]
    }
   ],
   "source": [
    "import numpy as np\n",
    "from sklearn.metrics import mean_squared_error\n",
    "mse = mean_squared_error(y_train, y_pred_train_trf)\n",
    "print(\"The training mean square error is \",mse.round(2))\n",
    "print(\"The training Root mean square error\",np.sqrt(mse.round(2)))\n",
    "mse = mean_squared_error(y_test, y_pred_test_trf)\n",
    "print(\"The testing mean square error is \",mse.round(2))\n",
    "print(\"The testing Root mean square error\",np.sqrt(mse.round(2)))"
   ]
  },
  {
   "cell_type": "code",
   "execution_count": 38,
   "id": "7cb36110",
   "metadata": {},
   "outputs": [
    {
     "name": "stdout",
     "output_type": "stream",
     "text": [
      "R square of training data: 0.947\n",
      "R square of testing data: 0.761\n"
     ]
    }
   ],
   "source": [
    "from sklearn.metrics import r2_score\n",
    "r2 = r2_score(y_train,y_pred_train_trf)\n",
    "print(\"R square of training data:\", r2.round(3))\n",
    "r2 = r2_score(y_test,y_pred_test_trf)\n",
    "print(\"R square of testing data:\", r2.round(3))\n"
   ]
  },
  {
   "cell_type": "markdown",
   "id": "c8f55e3a",
   "metadata": {},
   "source": [
    "# Therefore, From above transformations we can conclude the rmse and r2_score of below transformations:\n",
    "\n",
    "\n",
    "\n",
    "###Logarithmic Transformation:    \n",
    "\n",
    "The training mean square error is  30497138.37\n",
    "The training Root mean square error 5522.421422709426\n",
    "The testing mean square error is  53272082.85\n",
    "The testing Root mean square error 7298.772694775472\n",
    "R square of training data: 0.966\n",
    "R square of testing data: 0.898\n",
    "\n",
    "\n",
    "###SQRT Transformation:\n",
    "The training mean square error is  51420017.12\n",
    "The training Root mean square error 7170.775210533377\n",
    "The test mean square error is  166484005.58\n",
    "The test Root mean square error 12902.868114492994\n",
    "R square of training data: 0.942\n",
    "R square of testing data: 0.68\n",
    "\n",
    "\n",
    "###SQUARE Transformation:\n",
    "The training mean square error is  47417139.83\n",
    "The training Root mean square error 6886.0104436458705\n",
    "The testing mean square error is  124364053.32\n",
    "The testing Root mean square error 11151.86322190153\n",
    "R square of training data: 0.947\n",
    "R square of testing data: 0.761"
   ]
  },
  {
   "cell_type": "code",
   "execution_count": null,
   "id": "2f476bc9",
   "metadata": {},
   "outputs": [],
   "source": []
  },
  {
   "cell_type": "code",
   "execution_count": null,
   "id": "e5f459ff",
   "metadata": {},
   "outputs": [],
   "source": []
  },
  {
   "cell_type": "code",
   "execution_count": null,
   "id": "53365965",
   "metadata": {},
   "outputs": [],
   "source": []
  },
  {
   "cell_type": "code",
   "execution_count": null,
   "id": "ed062c21",
   "metadata": {},
   "outputs": [],
   "source": []
  },
  {
   "cell_type": "code",
   "execution_count": null,
   "id": "c985966b",
   "metadata": {},
   "outputs": [],
   "source": []
  },
  {
   "cell_type": "code",
   "execution_count": null,
   "id": "44eff20d",
   "metadata": {},
   "outputs": [],
   "source": []
  },
  {
   "cell_type": "code",
   "execution_count": null,
   "id": "a5ac233b",
   "metadata": {},
   "outputs": [],
   "source": []
  },
  {
   "cell_type": "code",
   "execution_count": null,
   "id": "ece749be",
   "metadata": {},
   "outputs": [],
   "source": []
  }
 ],
 "metadata": {
  "kernelspec": {
   "display_name": "Python 3 (ipykernel)",
   "language": "python",
   "name": "python3"
  },
  "language_info": {
   "codemirror_mode": {
    "name": "ipython",
    "version": 3
   },
   "file_extension": ".py",
   "mimetype": "text/x-python",
   "name": "python",
   "nbconvert_exporter": "python",
   "pygments_lexer": "ipython3",
   "version": "3.10.9"
  }
 },
 "nbformat": 4,
 "nbformat_minor": 5
}
